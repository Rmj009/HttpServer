{
 "cells": [
  {
   "cell_type": "code",
   "execution_count": 145,
   "metadata": {
    "scrolled": true
   },
   "outputs": [
    {
     "name": "stdout",
     "output_type": "stream",
     "text": [
      "culpa >>>invalid\n",
      "\n",
      "mollit >>>invalid\n",
      "\n",
      "adipisicing >>>ok\n",
      "\n",
      "cupidatat >>>invalid\n",
      "\n",
      "nisi >>>ok\n",
      "\n",
      "irure >>>invalid\n",
      "\n",
      "est >>>invalid\n",
      "\n",
      "anim >>>invalid\n",
      "\n",
      "officia >>>ok\n",
      "\n",
      "nulla >>>invalid\n",
      "\n",
      "non >>>ok\n",
      "\n",
      "reprehenderit >>>invalid\n",
      "\n",
      "Lorem >>>invalid\n",
      "\n",
      "excepteur >>>ok\n",
      "\n",
      "voluptate >>>invalid\n",
      "\n",
      "ea >>>invalid\n",
      "\n",
      "dolor >>>ok\n",
      "\n",
      "nulla >>>invalid\n",
      "\n",
      "magna >>>invalid\n",
      "\n",
      "velit >>>ok\n",
      "\n"
     ]
    }
   ],
   "source": [
    "import json\n",
    "import pandas as pd\n",
    "with open('C:\\Users\\Robotlab\\Desktop\\HTTPserver\\data.json') as json_data:\n",
    "    movie = json.load(json_data)\n",
    "    for i in movie:\n",
    "        d1=int(i['time'][0:2])\n",
    "        d2=int(i['time'][6:8])\n",
    "        dd = d1-d2\n",
    "#         print d1,d2,dd,i['title']\n",
    "        if(dd<0 or d1<8): # 開始時間晚於結束放映間不合理;電影放映時間早於8點不合理\n",
    "            print i['title'],\">>>invalid\\n\"\n",
    "        else:\n",
    "            print i['title'],\">>>ok\\n\"\n",
    "#         diff = i['time'][0:6]-i['time'][6:11]"
   ]
  },
  {
   "cell_type": "code",
   "execution_count": 57,
   "metadata": {},
   "outputs": [
    {
     "data": {
      "text/plain": [
       "list"
      ]
     },
     "execution_count": 57,
     "metadata": {},
     "output_type": "execute_result"
    }
   ],
   "source": [
    "type(movie)"
   ]
  }
 ],
 "metadata": {
  "kernelspec": {
   "display_name": "Python 2",
   "language": "python",
   "name": "python2"
  },
  "language_info": {
   "codemirror_mode": {
    "name": "ipython",
    "version": 2
   },
   "file_extension": ".py",
   "mimetype": "text/x-python",
   "name": "python",
   "nbconvert_exporter": "python",
   "pygments_lexer": "ipython2",
   "version": "2.7.13"
  }
 },
 "nbformat": 4,
 "nbformat_minor": 2
}
